{
 "cells": [
  {
   "attachments": {},
   "cell_type": "markdown",
   "metadata": {},
   "source": [
    "## Import Libraries"
   ]
  },
  {
   "cell_type": "code",
   "execution_count": 93,
   "metadata": {},
   "outputs": [],
   "source": [
    "import requests  # for HTTPS requests to URLS\n",
    "import zipfile  # to un-zip any data files\n",
    "import pypdf  # to extract text from PDFs (is NOT that good)\n",
    "import sys, pathlib, fitz  # to extract text from PDFs\n",
    "import bs4  # HTLM parser to extract data from HTML pages\n",
    "import math\n",
    "from sympy import divisors"
   ]
  },
  {
   "cell_type": "code",
   "execution_count": 2,
   "metadata": {},
   "outputs": [],
   "source": [
    "BASE_GOVINFO = \"https://api.govinfo.gov/\""
   ]
  },
  {
   "cell_type": "code",
   "execution_count": 3,
   "metadata": {},
   "outputs": [],
   "source": [
    "r = requests.get(url=\"https://www.govinfo.gov/bulkdata/SCD/1937/SCD-1937.zip\")"
   ]
  },
  {
   "cell_type": "code",
   "execution_count": 4,
   "metadata": {},
   "outputs": [
    {
     "data": {
      "text/plain": [
       "52392953"
      ]
     },
     "execution_count": 4,
     "metadata": {},
     "output_type": "execute_result"
    }
   ],
   "source": [
    "open(\"data/SCD-1937.zip\", \"wb\").write(r.content)"
   ]
  },
  {
   "cell_type": "code",
   "execution_count": 7,
   "metadata": {},
   "outputs": [],
   "source": [
    "with zipfile.ZipFile(file=\"data/SCD-1937.zip\", mode=\"r\") as zip_ref:\n",
    "    zip_ref.extractall(\"data\")"
   ]
  },
  {
   "cell_type": "code",
   "execution_count": 8,
   "metadata": {},
   "outputs": [],
   "source": [
    "# Loop for 1991 to 2009\n",
    "for volume in range(502,561):\n",
    "    url = f\"https://www.supremecourt.gov/opinions/boundvolumes/{volume}bv.pdf\"\n",
    "    r = requests.get(url=url)\n",
    "    open(f\"data/SCD-{volume}.pdf\", \"wb\").write(r.content)\n",
    "    break\n",
    "\n",
    "# Loop for 2009 to 2015\n",
    "for volume in range(561,578):\n",
    "    url = f\"https://www.supremecourt.gov/opinions/boundvolumes/{volume}BV.pdf\""
   ]
  },
  {
   "cell_type": "code",
   "execution_count": 3,
   "metadata": {},
   "outputs": [
    {
     "data": {
      "text/plain": [
       "'502BV$spin 08-02-95 10:19:40\\nUNITED STATES\\nREPORTS\\n502\\nOCT. TERM 1991'"
      ]
     },
     "execution_count": 3,
     "metadata": {},
     "output_type": "execute_result"
    }
   ],
   "source": [
    "reader = pypdf.PdfReader(\"data/SCD-502.pdf\")\n",
    "reader.pages[0].extract_text()"
   ]
  },
  {
   "cell_type": "code",
   "execution_count": 4,
   "metadata": {},
   "outputs": [
    {
     "data": {
      "text/plain": [
       "2421174"
      ]
     },
     "execution_count": 4,
     "metadata": {},
     "output_type": "execute_result"
    }
   ],
   "source": [
    "with fitz.open(\"data/SCD-502.pdf\") as doc:  # open document\n",
    "    text = chr(12).join([page.get_text() for page in doc])\n",
    "# write as a binary file to support non-ASCII characters\n",
    "pathlib.Path(\"data/SCD-502\" + \".txt\").write_bytes(text.encode())\n"
   ]
  },
  {
   "cell_type": "code",
   "execution_count": 100,
   "metadata": {},
   "outputs": [
    {
     "data": {
      "text/plain": [
       "421"
      ]
     },
     "execution_count": 100,
     "metadata": {},
     "output_type": "execute_result"
    }
   ],
   "source": []
  },
  {
   "cell_type": "code",
   "execution_count": null,
   "metadata": {},
   "outputs": [],
   "source": [
    "# Get counts for page requests\n",
    "url = \"https://www.presidency.ucsb.edu/documents/app-categories/presidential/memoranda?items_per_page=5\"\n",
    "r = requests.get(url=url)\n",
    "soup = bs4.BeautifulSoup(markup=r.content, features=\"html.parser\")\n",
    "count = soup.find(attrs={\"class\":\"tax-count\"}).text\n",
    "total = int(count[count.index(\"of\")+3: count.index(\".\")])\n",
    "MAX_DISPLAY = 500\n",
    "display = max(map(lambda x: x if x<MAX_DISPLAY else 0,divisors(total)))\n",
    "\n",
    "# Loop to gather all memordandas\n",
    "for page in range(total/display):\n",
    "    url = f\"https://www.presidency.ucsb.edu/documents/app-attributes/determinations?items_per_page={display}&page={page}\"\n",
    "    r = requests.get(url=url)\n",
    "    soup = bs4.BeautifulSoup(markup=r.content, features=\"html.parser\")\n",
    "    memorandas = [child.a[\"href\"] for child in soup.find_all(attrs={\"class\":\"field-title\"})]\n",
    "\n",
    "    for href in memorandas:\n",
    "        # get content\n",
    "        r = requests.get(url=f\"https://www.presidency.ucsb.edu{href}\")\n",
    "        soup = bs4.BeautifulSoup(markup=r.content, features=\"html.parser\")\n",
    "        content = \"\"\n",
    "        for child in soup.find(attrs={\"class\":\"field-docs-content\"}).children:\n",
    "            content += child.text\n",
    "        # Get person\n",
    "        soup = bs4.BeautifulSoup(markup=r.content, features=\"html.parser\")\n",
    "        person = \"\"\n",
    "        for child in soup.find(attrs={\"class\":\"diet-title\"}).children:\n",
    "            person += child.text\n",
    "\n"
   ]
  },
  {
   "cell_type": "code",
   "execution_count": 65,
   "metadata": {},
   "outputs": [],
   "source": [
    "memorandas = [child.a[\"href\"] for child in soup.find_all(attrs={\"class\":\"field-title\"})]\n",
    "    "
   ]
  },
  {
   "cell_type": "code",
   "execution_count": 69,
   "metadata": {},
   "outputs": [
    {
     "data": {
      "text/plain": [
       "'/documents/memorandum-delegation-authority-under-section-506a1-the-foreign-assistance-act-1961-32'"
      ]
     },
     "execution_count": 69,
     "metadata": {},
     "output_type": "execute_result"
    }
   ],
   "source": [
    "memorandas[0]"
   ]
  },
  {
   "cell_type": "code",
   "execution_count": 76,
   "metadata": {},
   "outputs": [],
   "source": [
    "for href in memorandas:\n",
    "    # get content\n",
    "    r = requests.get(url=f\"https://www.presidency.ucsb.edu{href}\")\n",
    "    soup = bs4.BeautifulSoup(markup=r.content, features=\"html.parser\")\n",
    "    content = \"\"\n",
    "    for child in soup.find(attrs={\"class\":\"field-docs-content\"}).children:\n",
    "        content += child.text\n",
    "    # Get person\n",
    "    soup = bs4.BeautifulSoup(markup=r.content, features=\"html.parser\")\n",
    "    person = \"\"\n",
    "    for child in soup.find(attrs={\"class\":\"diet-title\"}).children:\n",
    "        person += child.text\n",
    "\n",
    "\n",
    "    break\n",
    "    \n"
   ]
  },
  {
   "cell_type": "code",
   "execution_count": 78,
   "metadata": {},
   "outputs": [
    {
     "data": {
      "text/plain": [
       "'Joseph R. Biden'"
      ]
     },
     "execution_count": 78,
     "metadata": {},
     "output_type": "execute_result"
    }
   ],
   "source": [
    "person"
   ]
  },
  {
   "cell_type": "code",
   "execution_count": null,
   "metadata": {},
   "outputs": [],
   "source": [
    "\"https://www.presidency.ucsb.edu/documents/app-attributes/determinations?items_per_page=60\"\n",
    "\"https://www.presidency.ucsb.edu/documents/app-attributes/determinations?items_per_page=60&page=1\""
   ]
  },
  {
   "cell_type": "code",
   "execution_count": null,
   "metadata": {},
   "outputs": [],
   "source": [
    "\"https://www.presidency.ucsb.edu/documents/app-attributes/executive-orders?items_per_page=60\"\n",
    "\"https://www.presidency.ucsb.edu/documents/app-attributes/executive-orders?items_per_page=60&page=1\""
   ]
  },
  {
   "cell_type": "code",
   "execution_count": null,
   "metadata": {},
   "outputs": [],
   "source": [
    "\"https://www.presidency.ucsb.edu/documents/app-categories/written-presidential-orders/presidential/proclamations?items_per_page=60\"\n",
    "\"https://www.presidency.ucsb.edu/documents/app-categories/written-presidential-orders/presidential/proclamations?items_per_page=60&page=1\""
   ]
  }
 ],
 "metadata": {
  "kernelspec": {
   "display_name": ".venv",
   "language": "python",
   "name": "python3"
  },
  "language_info": {
   "codemirror_mode": {
    "name": "ipython",
    "version": 3
   },
   "file_extension": ".py",
   "mimetype": "text/x-python",
   "name": "python",
   "nbconvert_exporter": "python",
   "pygments_lexer": "ipython3",
   "version": "3.11.0rc1"
  },
  "orig_nbformat": 4
 },
 "nbformat": 4,
 "nbformat_minor": 2
}
